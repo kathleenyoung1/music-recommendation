{
 "cells": [
  {
   "cell_type": "code",
   "execution_count": 4,
   "metadata": {},
   "outputs": [],
   "source": [
    "import pandas as pd\n",
    "import numpy as np\n",
    "import matplotlib.pyplot as plt\n",
    "from datetime import datetime, timedelta\n",
    "from sklearn import preprocessing\n",
    "from lightfm import LightFM\n",
    "import time\n",
    "from lightfm.evaluation import auc_score, precision_at_k, recall_at_k, reciprocal_rank\n",
    "import pickle\n",
    "import re\n",
    "import seaborn as sns\n",
    "import pyarrow\n",
    "from lightfm.data import Dataset\n",
    "from scipy.sparse import coo_matrix"
   ]
  },
  {
   "cell_type": "code",
   "execution_count": 5,
   "metadata": {},
   "outputs": [],
   "source": [
    "path = '/home/drh382/final-project-the-team/ms_train.csv/part-00000-10909035-b61b-408d-bd49-c8cd1482a3d3-c000.csv'\n",
    "header_list = [\"user_id\", \"count\", \"track_id\"]"
   ]
  },
  {
   "cell_type": "code",
   "execution_count": 6,
   "metadata": {},
   "outputs": [],
   "source": [
    "data = pd.read_csv(path, names=header_list)"
   ]
  },
  {
   "cell_type": "code",
   "execution_count": 7,
   "metadata": {},
   "outputs": [
    {
     "data": {
      "text/html": [
       "<div>\n",
       "<style scoped>\n",
       "    .dataframe tbody tr th:only-of-type {\n",
       "        vertical-align: middle;\n",
       "    }\n",
       "\n",
       "    .dataframe tbody tr th {\n",
       "        vertical-align: top;\n",
       "    }\n",
       "\n",
       "    .dataframe thead th {\n",
       "        text-align: right;\n",
       "    }\n",
       "</style>\n",
       "<table border=\"1\" class=\"dataframe\">\n",
       "  <thead>\n",
       "    <tr style=\"text-align: right;\">\n",
       "      <th></th>\n",
       "      <th>user_id</th>\n",
       "      <th>count</th>\n",
       "      <th>track_id</th>\n",
       "    </tr>\n",
       "  </thead>\n",
       "  <tbody>\n",
       "    <tr>\n",
       "      <th>0</th>\n",
       "      <td>7</td>\n",
       "      <td>1</td>\n",
       "      <td>1102098</td>\n",
       "    </tr>\n",
       "    <tr>\n",
       "      <th>1</th>\n",
       "      <td>7</td>\n",
       "      <td>1</td>\n",
       "      <td>1102098</td>\n",
       "    </tr>\n",
       "    <tr>\n",
       "      <th>2</th>\n",
       "      <td>7</td>\n",
       "      <td>1</td>\n",
       "      <td>1102098</td>\n",
       "    </tr>\n",
       "    <tr>\n",
       "      <th>3</th>\n",
       "      <td>7</td>\n",
       "      <td>1</td>\n",
       "      <td>1102098</td>\n",
       "    </tr>\n",
       "    <tr>\n",
       "      <th>4</th>\n",
       "      <td>7</td>\n",
       "      <td>1</td>\n",
       "      <td>1102098</td>\n",
       "    </tr>\n",
       "  </tbody>\n",
       "</table>\n",
       "</div>"
      ],
      "text/plain": [
       "   user_id  count  track_id\n",
       "0        7      1   1102098\n",
       "1        7      1   1102098\n",
       "2        7      1   1102098\n",
       "3        7      1   1102098\n",
       "4        7      1   1102098"
      ]
     },
     "execution_count": 7,
     "metadata": {},
     "output_type": "execute_result"
    }
   ],
   "source": [
    "data.head()"
   ]
  },
  {
   "cell_type": "code",
   "execution_count": 8,
   "metadata": {},
   "outputs": [],
   "source": [
    "dataset = Dataset()"
   ]
  },
  {
   "cell_type": "code",
   "execution_count": 9,
   "metadata": {},
   "outputs": [],
   "source": [
    "dataset.fit((data['user_id']),\n",
    "            (data['track_id']))"
   ]
  },
  {
   "cell_type": "code",
   "execution_count": 10,
   "metadata": {},
   "outputs": [
    {
     "name": "stdout",
     "output_type": "stream",
     "text": [
      "In train data, Num users: 163206, num_items 110000.\n"
     ]
    }
   ],
   "source": [
    "num_users, num_items = dataset.interactions_shape()\n",
    "print('In train data, Num users: {}, num_items {}.'.format(num_users, num_items))"
   ]
  },
  {
   "cell_type": "code",
   "execution_count": 16,
   "metadata": {},
   "outputs": [],
   "source": [
    "def informed_train_test(rating_df, train_ratio):\n",
    "    '''\n",
    "    split_cut = np.int(np.round(rating_df.shape[0] * train_ratio)) #ok\n",
    "    train_df = rating_df.iloc[0:split_cut] #ok\n",
    "    test_df = rating_df.iloc[split_cut::] #ok\n",
    "#     test_df = test_df[(test_df['userID'].isin(train_df['userID'])) & (test_df['ISBN'].isin(train_df['ISBN']))]\n",
    "#     id_cols = ['userID', 'ISBN']\n",
    "    id_cols = ['user_id', 'track_id']\n",
    "    trans_cat_train = dict()\n",
    "    trans_cat_test = dict()\n",
    "    for k in id_cols:\n",
    "        cate_enc = preprocessing.LabelEncoder()\n",
    "        trans_cat_train[k] = cate_enc.fit_transform(train_df[k].values)\n",
    "        trans_cat_test[k] = cate_enc.transform(test_df[k].values)\n",
    "'''\n",
    "    # --- Encode ratings:\n",
    "    cate_enc = preprocessing.LabelEncoder()\n",
    "    ratings = dict()\n",
    "    ratings['train'] = cate_enc.fit_transform(train_df.count)\n",
    "    ratings['test'] = cate_enc.transform(test_df.count)\n",
    "\n",
    "    n_users = len(np.unique(trans_cat_train['user_id']))\n",
    "    n_items = len(np.unique(trans_cat_train['track_id']))\n",
    "\n",
    "\n",
    "    train = coo_matrix((ratings['train'], (trans_cat_train['user_id'], \\\n",
    "                                                          trans_cat_train['track_id'])) \\\n",
    "                                      , shape=(n_users, n_items))\n",
    "    test = coo_matrix((ratings['test'], (trans_cat_test['user_id'], \\\n",
    "                                                        trans_cat_test['track_id'])) \\\n",
    "                                     , shape=(n_users, n_items))\n",
    "    return train, test, train_df"
   ]
  },
  {
   "cell_type": "code",
   "execution_count": 11,
   "metadata": {},
   "outputs": [],
   "source": [
    "train = dict()\n",
    "# alldata = dict()\n",
    "for i in data[['user_id','track_id']]:\n",
    "    cate_enc = preprocessing.LabelEncoder()\n",
    "    train[i] = cate_enc.fit_transform(data[i].values)\n"
   ]
  },
  {
   "cell_type": "code",
   "execution_count": 12,
   "metadata": {},
   "outputs": [],
   "source": [
    "n_users = len(np.unique(train['user_id']))\n",
    "n_items = len(np.unique(train['track_id']))"
   ]
  },
  {
   "cell_type": "code",
   "execution_count": 13,
   "metadata": {},
   "outputs": [],
   "source": [
    "ratings = dict()\n",
    "ratings['train'] = cate_enc.fit_transform(data['count'])"
   ]
  },
  {
   "cell_type": "code",
   "execution_count": 14,
   "metadata": {},
   "outputs": [],
   "source": [
    "train_matrix = coo_matrix((ratings['train'], (train['user_id'], \\\n",
    "                                                          train['track_id'])) \\\n",
    "                                      , shape=(n_users, n_items))"
   ]
  },
  {
   "cell_type": "code",
   "execution_count": 15,
   "metadata": {},
   "outputs": [
    {
     "data": {
      "text/plain": [
       "<163206x110000 sparse matrix of type '<class 'numpy.int64'>'\n",
       "\twith 27010946 stored elements in COOrdinate format>"
      ]
     },
     "execution_count": 15,
     "metadata": {},
     "output_type": "execute_result"
    }
   ],
   "source": [
    "train_matrix"
   ]
  },
  {
   "cell_type": "code",
   "execution_count": 16,
   "metadata": {},
   "outputs": [],
   "source": [
    "val_path = '/home/drh382/final-project-the-team/ms_val.csv/part-00000-cc14572e-0a50-4450-a754-575b8d44007b-c000.csv'\n",
    "header_list = [\"user_id\", \"count\", \"track_id\"]\n",
    "val_data = pd.read_csv(val_path, names=header_list)"
   ]
  },
  {
   "cell_type": "code",
   "execution_count": 17,
   "metadata": {},
   "outputs": [],
   "source": [
    "val_dataset = Dataset()\n",
    "val_dataset.fit((val_data['user_id']),\n",
    "            (val_data['track_id']))"
   ]
  },
  {
   "cell_type": "code",
   "execution_count": 18,
   "metadata": {},
   "outputs": [
    {
     "name": "stdout",
     "output_type": "stream",
     "text": [
      "In val data, Num users: 159717, num_items 100000.\n"
     ]
    }
   ],
   "source": [
    "num_users, num_items = val_dataset.interactions_shape()\n",
    "print('In val data, Num users: {}, num_items {}.'.format(num_users, num_items))"
   ]
  },
  {
   "cell_type": "code",
   "execution_count": 19,
   "metadata": {},
   "outputs": [],
   "source": [
    "val = dict()\n",
    "# alldata = dict()\n",
    "for i in val_data[['user_id','track_id']]:\n",
    "    cate_enc = preprocessing.LabelEncoder()\n",
    "    val[i] = cate_enc.fit_transform(val_data[i].values)\n",
    "\n"
   ]
  },
  {
   "cell_type": "code",
   "execution_count": 21,
   "metadata": {},
   "outputs": [],
   "source": [
    "val_n_users = len(np.unique(val['user_id']))\n",
    "val_n_items = len(np.unique(val['track_id']))\n",
    "\n",
    "val_ratings = dict()\n",
    "val_ratings['val'] = cate_enc.fit_transform(val_data['count'])"
   ]
  },
  {
   "cell_type": "code",
   "execution_count": 22,
   "metadata": {},
   "outputs": [],
   "source": [
    "val_matrix = coo_matrix((val_ratings['val'], (val['user_id'], \\\n",
    "                                                          val['track_id'])) \\\n",
    "                                      ,shape=(n_users, n_items)) #not mistake. the shape needs to be the same "
   ]
  },
  {
   "cell_type": "code",
   "execution_count": 23,
   "metadata": {},
   "outputs": [
    {
     "data": {
      "text/plain": [
       "<163206x110000 sparse matrix of type '<class 'numpy.int64'>'\n",
       "\twith 1368430 stored elements in COOrdinate format>"
      ]
     },
     "execution_count": 23,
     "metadata": {},
     "output_type": "execute_result"
    }
   ],
   "source": [
    "val_matrix"
   ]
  },
  {
   "cell_type": "code",
   "execution_count": null,
   "metadata": {},
   "outputs": [],
   "source": [
    "#there are 4 metrics - AUC, prec_at_k, recall_at_k, and reciprocal_rank"
   ]
  },
  {
   "cell_type": "code",
   "execution_count": 25,
   "metadata": {},
   "outputs": [],
   "source": [
    "#looking for the best hyperparam. source: https://stackoverflow.com/questions/49896816/how-do-i-optimize-the-hyperparameters-of-lightfm\n",
    "import itertools\n",
    "\n",
    "import numpy as np\n",
    "\n",
    "def sample_hyperparameters():\n",
    "    \"\"\"\n",
    "    Yield possible hyperparameter choices.\n",
    "    \"\"\"\n",
    "\n",
    "    while True:\n",
    "        yield {\n",
    "            \"no_components\": np.random.randint(16, 64),\n",
    "            \"learning_schedule\": np.random.choice([\"adagrad\", \"adadelta\"]),\n",
    "            \"loss\": np.random.choice([\"bpr\", \"warp\", \"warp-kos\"]),\n",
    "            \"learning_rate\": np.random.exponential(0.05),\n",
    "            \"item_alpha\": np.random.exponential(1e-8),\n",
    "            \"user_alpha\": np.random.exponential(1e-8),\n",
    "            \"max_sampled\": np.random.randint(5, 15),\n",
    "            \"num_epochs\": np.random.randint(5, 50),\n",
    "        }\n",
    "\n",
    "\n",
    "def random_search(train, test, num_samples=10, num_threads=8):\n",
    "    \"\"\"\n",
    "    Sample random hyperparameters, fit a LightFM model, and evaluate it\n",
    "    on the test set.\n",
    "\n",
    "    Parameters\n",
    "    ----------\n",
    "\n",
    "    train: np.float32 coo_matrix of shape [n_users, n_items]\n",
    "        Training data.\n",
    "    test: np.float32 coo_matrix of shape [n_users, n_items]\n",
    "        Test data.\n",
    "    num_samples: int, optional\n",
    "        Number of hyperparameter choices to evaluate.\n",
    "\n",
    "\n",
    "    Returns\n",
    "    -------\n",
    "\n",
    "    generator of (auc_score, hyperparameter dict, fitted model)\n",
    "\n",
    "    \"\"\"\n",
    "\n",
    "    for hyperparams in itertools.islice(sample_hyperparameters(), num_samples):\n",
    "        num_epochs = hyperparams.pop(\"num_epochs\")\n",
    "\n",
    "        model = LightFM(**hyperparams)\n",
    "        model.fit(train, epochs=num_epochs, num_threads=num_threads)\n",
    "\n",
    "        score = auc_score(model, test, train_interactions=train, num_threads=num_threads).mean()\n",
    "\n",
    "        hyperparams[\"num_epochs\"] = num_epochs\n",
    "\n",
    "        yield (score, hyperparams, model)"
   ]
  },
  {
   "cell_type": "code",
   "execution_count": 27,
   "metadata": {},
   "outputs": [],
   "source": [
    "from lightfm import LightFM\n",
    "LightFM._check_test_train_intersections = lambda x, y, z: True"
   ]
  },
  {
   "cell_type": "code",
   "execution_count": 28,
   "metadata": {},
   "outputs": [
    {
     "name": "stdout",
     "output_type": "stream",
     "text": [
      "Best score 0.6478155255317688 at {'no_components': 33, 'learning_schedule': 'adagrad', 'loss': 'warp-kos', 'learning_rate': 0.0012108928998233663, 'item_alpha': 4.008980346554833e-09, 'user_alpha': 1.7940262832295985e-08, 'max_sampled': 5, 'num_epochs': 36}\n"
     ]
    }
   ],
   "source": [
    "(score, hyperparams, model) = max(random_search(train_matrix, val_matrix, num_threads=4), key=lambda x: x[0])\n",
    "\n",
    "print(\"Best score {} at {}\".format(score, hyperparams))"
   ]
  },
  {
   "cell_type": "code",
   "execution_count": 29,
   "metadata": {},
   "outputs": [],
   "source": [
    "test_path = '/home/drh382/final-project-the-team/ms_test.csv/part-00000-e8dc8482-9e4f-45a3-827f-7e95e6499267-c000.csv'\n",
    "header_list = [\"user_id\", \"count\", \"track_id\"]\n",
    "test_data = pd.read_csv(test_path, names=header_list)"
   ]
  },
  {
   "cell_type": "code",
   "execution_count": 30,
   "metadata": {},
   "outputs": [],
   "source": [
    "test_dataset = Dataset()\n",
    "test_dataset.fit((test_data['user_id']),\n",
    "            (test_data['track_id']))"
   ]
  },
  {
   "cell_type": "code",
   "execution_count": 31,
   "metadata": {},
   "outputs": [
    {
     "name": "stdout",
     "output_type": "stream",
     "text": [
      "In test data, Num users: 10000, num_items 50074.\n"
     ]
    }
   ],
   "source": [
    "num_users, num_items = test_dataset.interactions_shape()\n",
    "print('In test data, Num users: {}, num_items {}.'.format(num_users, num_items))"
   ]
  },
  {
   "cell_type": "code",
   "execution_count": 32,
   "metadata": {},
   "outputs": [],
   "source": [
    "test = dict()\n",
    "# alldata = dict()\n",
    "for i in test_data[['user_id','track_id']]:\n",
    "    cate_enc = preprocessing.LabelEncoder()\n",
    "    test[i] = cate_enc.fit_transform(test_data[i].values)\n",
    "\n"
   ]
  },
  {
   "cell_type": "code",
   "execution_count": 33,
   "metadata": {},
   "outputs": [],
   "source": [
    "test_ratings = dict()\n",
    "test_ratings['test'] = cate_enc.fit_transform(test_data['count'])"
   ]
  },
  {
   "cell_type": "code",
   "execution_count": 35,
   "metadata": {},
   "outputs": [],
   "source": [
    "test_matrix = coo_matrix((test_ratings['test'], (test['user_id'], \\\n",
    "                                                          test['track_id'])) \\\n",
    "                                      ,shape=(n_users, n_items)) #not mistake. the shape needs to be the same "
   ]
  },
  {
   "cell_type": "code",
   "execution_count": 36,
   "metadata": {},
   "outputs": [
    {
     "data": {
      "text/plain": [
       "<163206x110000 sparse matrix of type '<class 'numpy.int64'>'\n",
       "\twith 135938 stored elements in COOrdinate format>"
      ]
     },
     "execution_count": 36,
     "metadata": {},
     "output_type": "execute_result"
    }
   ],
   "source": [
    "test_matrix"
   ]
  },
  {
   "cell_type": "code",
   "execution_count": 37,
   "metadata": {
    "collapsed": true,
    "jupyter": {
     "outputs_hidden": true
    }
   },
   "outputs": [
    {
     "data": {
      "text/plain": [
       "\u001b[0;31mInit signature:\u001b[0m\n",
       "\u001b[0mLightFM\u001b[0m\u001b[0;34m(\u001b[0m\u001b[0;34m\u001b[0m\n",
       "\u001b[0;34m\u001b[0m    \u001b[0mno_components\u001b[0m\u001b[0;34m=\u001b[0m\u001b[0;36m10\u001b[0m\u001b[0;34m,\u001b[0m\u001b[0;34m\u001b[0m\n",
       "\u001b[0;34m\u001b[0m    \u001b[0mk\u001b[0m\u001b[0;34m=\u001b[0m\u001b[0;36m5\u001b[0m\u001b[0;34m,\u001b[0m\u001b[0;34m\u001b[0m\n",
       "\u001b[0;34m\u001b[0m    \u001b[0mn\u001b[0m\u001b[0;34m=\u001b[0m\u001b[0;36m10\u001b[0m\u001b[0;34m,\u001b[0m\u001b[0;34m\u001b[0m\n",
       "\u001b[0;34m\u001b[0m    \u001b[0mlearning_schedule\u001b[0m\u001b[0;34m=\u001b[0m\u001b[0;34m'adagrad'\u001b[0m\u001b[0;34m,\u001b[0m\u001b[0;34m\u001b[0m\n",
       "\u001b[0;34m\u001b[0m    \u001b[0mloss\u001b[0m\u001b[0;34m=\u001b[0m\u001b[0;34m'logistic'\u001b[0m\u001b[0;34m,\u001b[0m\u001b[0;34m\u001b[0m\n",
       "\u001b[0;34m\u001b[0m    \u001b[0mlearning_rate\u001b[0m\u001b[0;34m=\u001b[0m\u001b[0;36m0.05\u001b[0m\u001b[0;34m,\u001b[0m\u001b[0;34m\u001b[0m\n",
       "\u001b[0;34m\u001b[0m    \u001b[0mrho\u001b[0m\u001b[0;34m=\u001b[0m\u001b[0;36m0.95\u001b[0m\u001b[0;34m,\u001b[0m\u001b[0;34m\u001b[0m\n",
       "\u001b[0;34m\u001b[0m    \u001b[0mepsilon\u001b[0m\u001b[0;34m=\u001b[0m\u001b[0;36m1e-06\u001b[0m\u001b[0;34m,\u001b[0m\u001b[0;34m\u001b[0m\n",
       "\u001b[0;34m\u001b[0m    \u001b[0mitem_alpha\u001b[0m\u001b[0;34m=\u001b[0m\u001b[0;36m0.0\u001b[0m\u001b[0;34m,\u001b[0m\u001b[0;34m\u001b[0m\n",
       "\u001b[0;34m\u001b[0m    \u001b[0muser_alpha\u001b[0m\u001b[0;34m=\u001b[0m\u001b[0;36m0.0\u001b[0m\u001b[0;34m,\u001b[0m\u001b[0;34m\u001b[0m\n",
       "\u001b[0;34m\u001b[0m    \u001b[0mmax_sampled\u001b[0m\u001b[0;34m=\u001b[0m\u001b[0;36m10\u001b[0m\u001b[0;34m,\u001b[0m\u001b[0;34m\u001b[0m\n",
       "\u001b[0;34m\u001b[0m    \u001b[0mrandom_state\u001b[0m\u001b[0;34m=\u001b[0m\u001b[0;32mNone\u001b[0m\u001b[0;34m,\u001b[0m\u001b[0;34m\u001b[0m\n",
       "\u001b[0;34m\u001b[0m\u001b[0;34m)\u001b[0m\u001b[0;34m\u001b[0m\u001b[0;34m\u001b[0m\u001b[0m\n",
       "\u001b[0;31mDocstring:\u001b[0m     \n",
       "A hybrid latent representation recommender model.\n",
       "\n",
       "The model learns embeddings (latent representations in a high-dimensional\n",
       "space) for users and items in a way that encodes user preferences over items.\n",
       "When multiplied together, these representations produce scores for every item\n",
       "for a given user; items scored highly are more likely to be interesting to\n",
       "the user.\n",
       "\n",
       "The user and item representations are expressed in terms of representations\n",
       "of their features: an embedding is estimated for every feature, and these\n",
       "features are then summed together to arrive at representations for users and\n",
       "items. For example, if the movie 'Wizard of Oz' is described by the following\n",
       "features: 'musical fantasy', 'Judy Garland', and 'Wizard of Oz', then its\n",
       "embedding will be given by taking the features' embeddings and adding them\n",
       "together. The same applies to user features.\n",
       "\n",
       "The embeddings are learned through `stochastic gradient\n",
       "descent <http://cs231n.github.io/optimization-1/>`_ methods.\n",
       "\n",
       "Four loss functions are available:\n",
       "\n",
       "- logistic: useful when both positive (1) and negative (-1) interactions\n",
       "  are present.\n",
       "- BPR: Bayesian Personalised Ranking [1]_ pairwise loss. Maximises the\n",
       "  prediction difference between a positive example and a randomly\n",
       "  chosen negative example. Useful when only positive interactions\n",
       "  are present and optimising ROC AUC is desired.\n",
       "- WARP: Weighted Approximate-Rank Pairwise [2]_ loss. Maximises\n",
       "  the rank of positive examples by repeatedly sampling negative\n",
       "  examples until rank violating one is found. Useful when only\n",
       "  positive interactions are present and optimising the top of\n",
       "  the recommendation list (precision@k) is desired.\n",
       "- k-OS WARP: k-th order statistic loss [3]_. A modification of WARP that\n",
       "  uses the k-th positive example for any given user as a basis for pairwise\n",
       "  updates.\n",
       "\n",
       "Two learning rate schedules are available:\n",
       "\n",
       "- adagrad: [4]_\n",
       "- adadelta: [5]_\n",
       "\n",
       "Parameters\n",
       "----------\n",
       "\n",
       "no_components: int, optional\n",
       "    the dimensionality of the feature latent embeddings.\n",
       "k: int, optional\n",
       "    for k-OS training, the k-th positive example will be selected from the\n",
       "    n positive examples sampled for every user.\n",
       "n: int, optional\n",
       "    for k-OS training, maximum number of positives sampled for each update.\n",
       "learning_schedule: string, optional\n",
       "    one of ('adagrad', 'adadelta').\n",
       "loss: string, optional\n",
       "    one of  ('logistic', 'bpr', 'warp', 'warp-kos'): the loss function.\n",
       "learning_rate: float, optional\n",
       "    initial learning rate for the adagrad learning schedule.\n",
       "rho: float, optional\n",
       "    moving average coefficient for the adadelta learning schedule.\n",
       "epsilon: float, optional\n",
       "    conditioning parameter for the adadelta learning schedule.\n",
       "item_alpha: float, optional\n",
       "    L2 penalty on item features. Tip: setting this number too high can slow\n",
       "    down training. One good way to check is if the final weights in the\n",
       "    embeddings turned out to be mostly zero. The same idea applies to\n",
       "    the user_alpha parameter.\n",
       "user_alpha: float, optional\n",
       "    L2 penalty on user features.\n",
       "max_sampled: int, optional\n",
       "    maximum number of negative samples used during WARP fitting.\n",
       "    It requires a lot of sampling to find negative triplets for users that\n",
       "    are already well represented by the model; this can lead to very long\n",
       "    training times and overfitting. Setting this to a higher number will\n",
       "    generally lead to longer training times, but may in some cases improve\n",
       "    accuracy.\n",
       "random_state: int seed, RandomState instance, or None\n",
       "    The seed of the pseudo random number generator to use when shuffling\n",
       "    the data and initializing the parameters.\n",
       "\n",
       "Attributes\n",
       "----------\n",
       "\n",
       "item_embeddings: np.float32 array of shape [n_item_features, n_components]\n",
       "     Contains the estimated latent vectors for item features. The [i, j]-th\n",
       "     entry gives the value of the j-th component for the i-th item feature.\n",
       "     In the simplest case where the item feature matrix is an identity\n",
       "     matrix, the i-th row will represent the i-th item latent vector.\n",
       "user_embeddings: np.float32 array of shape [n_user_features, n_components]\n",
       "     Contains the estimated latent vectors for user features. The [i, j]-th\n",
       "     entry gives the value of the j-th component for the i-th user feature.\n",
       "     In the simplest case where the user feature matrix is an identity\n",
       "     matrix, the i-th row will represent the i-th user latent vector.\n",
       "item_biases: np.float32 array of shape [n_item_features,]\n",
       "     Contains the biases for item_features.\n",
       "user_biases: np.float32 array of shape [n_user_features,]\n",
       "     Contains the biases for user_features.\n",
       "\n",
       "Notes\n",
       "-----\n",
       "\n",
       "Users' and items' latent representations are expressed in terms of their\n",
       "features' representations. If no feature matrices are provided to the\n",
       ":func:`lightfm.LightFM.fit` or :func:`lightfm.LightFM.predict` methods, they are\n",
       "implicitly assumed to be identity matrices: that is, each user and item\n",
       "are characterised by one feature that is unique to that user (or item).\n",
       "In this case, LightFM reduces to a traditional collaborative filtering\n",
       "matrix factorization method.\n",
       "\n",
       "When a feature matrix is provided, it should be of shape\n",
       "``(num_<users/items> x num_features)``. An embedding will then be estimated\n",
       "for every feature: that is, there will be ``num_features`` embeddings.\n",
       "To obtain the representation for user i, the model will look up the i-th\n",
       "row of the feature matrix to find the features with non-zero weights in\n",
       "that row; the embeddings for these features will then be added together\n",
       "to arrive at the user representation. For example, if user 10 has weight 1\n",
       "in the 5th column of the user feature matrix, and weight 3 in the 20th\n",
       "column, that user's representation will be found by adding together\n",
       "the embedding for the 5th and the 20th features (multiplying the latter\n",
       "by 3). The same goes for items.\n",
       "\n",
       "Note: when supplying feature matrices, an implicit identity feature\n",
       "matrix will no longer be used. This may result in a less expressive model:\n",
       "because no per-user features are estimated, the model may underfit. To\n",
       "combat this, include per-user (per-item) features (that is, an identity\n",
       "matrix) as part of the feature matrix you supply.\n",
       "\n",
       "References\n",
       "----------\n",
       "\n",
       ".. [1] Rendle, Steffen, et al. \"BPR: Bayesian personalized ranking from\n",
       "       implicit feedback.\"\n",
       "       Proceedings of the Twenty-Fifth Conference on Uncertainty in\n",
       "       Artificial Intelligence. AUAI Press, 2009.\n",
       ".. [2] Weston, Jason, Samy Bengio, and Nicolas Usunier. \"Wsabie: Scaling up\n",
       "       to large vocabulary image annotation.\" IJCAI. Vol. 11. 2011.\n",
       ".. [3] Weston, Jason, Hector Yee, and Ron J. Weiss. \"Learning to rank\n",
       "       recommendations with the k-order statistic loss.\"\n",
       "       Proceedings of the 7th ACM conference on Recommender systems. ACM,\n",
       "       2013.\n",
       ".. [4] Duchi, John, Elad Hazan, and Yoram Singer. \"Adaptive subgradient\n",
       "       methods for online learning and stochastic optimization.\"\n",
       "       The Journal of Machine Learning Research 12 (2011): 2121-2159.\n",
       ".. [5] Zeiler, Matthew D. \"ADADELTA: An adaptive learning rate method.\"\n",
       "       arXiv preprint arXiv:1212.5701 (2012).\n",
       "\u001b[0;31mFile:\u001b[0m           ~/.local/lib/python3.8/site-packages/lightfm/lightfm.py\n",
       "\u001b[0;31mType:\u001b[0m           type\n",
       "\u001b[0;31mSubclasses:\u001b[0m     \n"
      ]
     },
     "metadata": {},
     "output_type": "display_data"
    }
   ],
   "source": [
    "LightFM?"
   ]
  },
  {
   "cell_type": "code",
   "execution_count": 42,
   "metadata": {},
   "outputs": [
    {
     "name": "stdout",
     "output_type": "stream",
     "text": [
      "--- Run time:  53.14894810517629 mins ---\n",
      "Train AUC Score: 0.8025360703468323\n",
      "Test AUC Score: 0.7990469932556152\n",
      "Train Prec Score: 0.006121710874140263\n",
      "Test Prec Score: 0.0018179998733103275\n",
      "Train Recall Score: 0.005499042943948241\n",
      "Test Recall Score: 0.007811867575982336\n"
     ]
    }
   ],
   "source": [
    "start_time = time.time()\n",
    "\n",
    "# no_components': 33, 'learning_schedule': 'adagrad', 'loss': 'warp-kos', 'learning_rate': 0.0012108928998233663, 'item_alpha': 4.008980346554833e-09, 'user_alpha': 1.7940262832295985e-08, 'max_sampled': 5, 'num_epochs': 36\n",
    "\n",
    "model=LightFM(no_components=33,learning_schedule='adagrad',learning_rate=0.0012108928998233663,loss='warp-kos', item_alpha=4.008980346554833e-09,user_alpha=1.7940262832295985e-08,max_sampled=5)\n",
    "model.fit(train_matrix,epochs=36,num_threads=8)\n",
    "\n",
    "auc_train = auc_score(model, train_matrix).mean()\n",
    "auc_test = auc_score(model, test_matrix).mean()\n",
    "prec_train = precision_at_k(model, train_matrix, k = 50).mean()\n",
    "prec_test = precision_at_k(model, test_matrix, k = 50).mean()\n",
    "\n",
    "recall_train = recall_at_k(model, train_matrix, k = 50).mean()\n",
    "recall_test = recall_at_k(model, test_matrix, k = 50).mean()\n",
    "\n",
    "print(\"--- Run time:  {} mins ---\".format((time.time() - start_time)/60))\n",
    "print(\"Train AUC Score: {}\".format(auc_train))\n",
    "print(\"Test AUC Score: {}\".format(auc_test))\n",
    "print(\"Train Prec Score: {}\".format(prec_train))\n",
    "print(\"Test Prec Score: {}\".format(prec_test))\n",
    "print(\"Train Recall Score: {}\".format(recall_train))\n",
    "print(\"Test Recall Score: {}\".format(recall_test))"
   ]
  },
  {
   "cell_type": "code",
   "execution_count": null,
   "metadata": {},
   "outputs": [],
   "source": []
  }
 ],
 "metadata": {
  "kernelspec": {
   "display_name": "Python 3",
   "language": "python",
   "name": "python3"
  },
  "language_info": {
   "codemirror_mode": {
    "name": "ipython",
    "version": 3
   },
   "file_extension": ".py",
   "mimetype": "text/x-python",
   "name": "python",
   "nbconvert_exporter": "python",
   "pygments_lexer": "ipython3",
   "version": "3.8.6"
  }
 },
 "nbformat": 4,
 "nbformat_minor": 4
}
