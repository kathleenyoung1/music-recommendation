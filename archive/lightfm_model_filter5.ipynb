{
 "cells": [
  {
   "cell_type": "code",
   "execution_count": 1,
   "metadata": {},
   "outputs": [],
   "source": [
    "import pandas as pd\n",
    "import numpy as np\n",
    "import matplotlib.pyplot as plt\n",
    "from datetime import datetime, timedelta\n",
    "from sklearn import preprocessing\n",
    "from lightfm import LightFM\n",
    "import time\n",
    "from lightfm.evaluation import auc_score, precision_at_k, recall_at_k, reciprocal_rank\n",
    "import pickle\n",
    "import re\n",
    "import seaborn as sns\n",
    "import pyarrow\n",
    "from lightfm.data import Dataset\n",
    "from scipy.sparse import coo_matrix"
   ]
  },
  {
   "cell_type": "code",
   "execution_count": 2,
   "metadata": {},
   "outputs": [],
   "source": [
    "path = '/home/drh382/final-project-the-team/ms_train.csv/part-00000-10909035-b61b-408d-bd49-c8cd1482a3d3-c000.csv'\n",
    "header_list = [\"user_id\", \"count\", \"track_id\"]"
   ]
  },
  {
   "cell_type": "code",
   "execution_count": 3,
   "metadata": {},
   "outputs": [],
   "source": [
    "data = pd.read_csv(path, names=header_list)"
   ]
  },
  {
   "cell_type": "code",
   "execution_count": 4,
   "metadata": {},
   "outputs": [
    {
     "data": {
      "text/html": [
       "<div>\n",
       "<style scoped>\n",
       "    .dataframe tbody tr th:only-of-type {\n",
       "        vertical-align: middle;\n",
       "    }\n",
       "\n",
       "    .dataframe tbody tr th {\n",
       "        vertical-align: top;\n",
       "    }\n",
       "\n",
       "    .dataframe thead th {\n",
       "        text-align: right;\n",
       "    }\n",
       "</style>\n",
       "<table border=\"1\" class=\"dataframe\">\n",
       "  <thead>\n",
       "    <tr style=\"text-align: right;\">\n",
       "      <th></th>\n",
       "      <th>user_id</th>\n",
       "      <th>count</th>\n",
       "      <th>track_id</th>\n",
       "    </tr>\n",
       "  </thead>\n",
       "  <tbody>\n",
       "    <tr>\n",
       "      <th>0</th>\n",
       "      <td>7</td>\n",
       "      <td>1</td>\n",
       "      <td>1102098</td>\n",
       "    </tr>\n",
       "    <tr>\n",
       "      <th>1</th>\n",
       "      <td>7</td>\n",
       "      <td>1</td>\n",
       "      <td>1102098</td>\n",
       "    </tr>\n",
       "    <tr>\n",
       "      <th>2</th>\n",
       "      <td>7</td>\n",
       "      <td>1</td>\n",
       "      <td>1102098</td>\n",
       "    </tr>\n",
       "    <tr>\n",
       "      <th>3</th>\n",
       "      <td>7</td>\n",
       "      <td>1</td>\n",
       "      <td>1102098</td>\n",
       "    </tr>\n",
       "    <tr>\n",
       "      <th>4</th>\n",
       "      <td>7</td>\n",
       "      <td>1</td>\n",
       "      <td>1102098</td>\n",
       "    </tr>\n",
       "  </tbody>\n",
       "</table>\n",
       "</div>"
      ],
      "text/plain": [
       "   user_id  count  track_id\n",
       "0        7      1   1102098\n",
       "1        7      1   1102098\n",
       "2        7      1   1102098\n",
       "3        7      1   1102098\n",
       "4        7      1   1102098"
      ]
     },
     "execution_count": 4,
     "metadata": {},
     "output_type": "execute_result"
    }
   ],
   "source": [
    "data.head()"
   ]
  },
  {
   "cell_type": "code",
   "execution_count": 5,
   "metadata": {},
   "outputs": [],
   "source": [
    "dataset = Dataset()"
   ]
  },
  {
   "cell_type": "code",
   "execution_count": 6,
   "metadata": {},
   "outputs": [],
   "source": [
    "dataset.fit((data['user_id']),\n",
    "            (data['track_id']))"
   ]
  },
  {
   "cell_type": "code",
   "execution_count": 7,
   "metadata": {},
   "outputs": [
    {
     "name": "stdout",
     "output_type": "stream",
     "text": [
      "In train data, Num users: 163206, num_items 110000.\n"
     ]
    }
   ],
   "source": [
    "num_users, num_items = dataset.interactions_shape()\n",
    "print('In train data, Num users: {}, num_items {}.'.format(num_users, num_items))"
   ]
  },
  {
   "cell_type": "code",
   "execution_count": 8,
   "metadata": {},
   "outputs": [],
   "source": [
    "afterfilter = data[data['count']>=5]"
   ]
  },
  {
   "cell_type": "code",
   "execution_count": 9,
   "metadata": {},
   "outputs": [],
   "source": [
    "dataseta = Dataset()\n",
    "dataseta.fit((afterfilter['user_id']),\n",
    "            (afterfilter['track_id']))"
   ]
  },
  {
   "cell_type": "code",
   "execution_count": 10,
   "metadata": {},
   "outputs": [
    {
     "name": "stdout",
     "output_type": "stream",
     "text": [
      "In train data, Num users: 61624, num_items 67437.\n"
     ]
    }
   ],
   "source": [
    "num_users, num_items = dataseta.interactions_shape()\n",
    "print('In train data, Num users: {}, num_items {}.'.format(num_users, num_items))"
   ]
  },
  {
   "cell_type": "code",
   "execution_count": 11,
   "metadata": {},
   "outputs": [],
   "source": [
    "data = afterfilter"
   ]
  },
  {
   "cell_type": "code",
   "execution_count": 12,
   "metadata": {},
   "outputs": [],
   "source": [
    "dataset = Dataset()\n",
    "dataset.fit((data['user_id']),\n",
    "            (data['track_id']))"
   ]
  },
  {
   "cell_type": "code",
   "execution_count": 13,
   "metadata": {},
   "outputs": [],
   "source": [
    "train = dict()\n",
    "# alldata = dict()\n",
    "for i in data[['user_id','track_id']]:\n",
    "    cate_enc = preprocessing.LabelEncoder()\n",
    "    train[i] = cate_enc.fit_transform(data[i].values)\n"
   ]
  },
  {
   "cell_type": "code",
   "execution_count": 14,
   "metadata": {},
   "outputs": [],
   "source": [
    "n_users = len(np.unique(train['user_id']))\n",
    "n_items = len(np.unique(train['track_id']))"
   ]
  },
  {
   "cell_type": "code",
   "execution_count": 15,
   "metadata": {},
   "outputs": [],
   "source": [
    "ratings = dict()\n",
    "ratings['train'] = cate_enc.fit_transform(data['count'])"
   ]
  },
  {
   "cell_type": "code",
   "execution_count": 16,
   "metadata": {},
   "outputs": [],
   "source": [
    "train_matrix = coo_matrix((ratings['train'], (train['user_id'], \\\n",
    "                                                          train['track_id'])) \\\n",
    "                                      , shape=(n_users, n_items))"
   ]
  },
  {
   "cell_type": "code",
   "execution_count": 17,
   "metadata": {},
   "outputs": [
    {
     "data": {
      "text/plain": [
       "<61624x67437 sparse matrix of type '<class 'numpy.int64'>'\n",
       "\twith 4566073 stored elements in COOrdinate format>"
      ]
     },
     "execution_count": 17,
     "metadata": {},
     "output_type": "execute_result"
    }
   ],
   "source": [
    "train_matrix"
   ]
  },
  {
   "cell_type": "code",
   "execution_count": 18,
   "metadata": {},
   "outputs": [],
   "source": [
    "val_path = '/home/drh382/final-project-the-team/ms_val.csv/part-00000-cc14572e-0a50-4450-a754-575b8d44007b-c000.csv'\n",
    "header_list = [\"user_id\", \"count\", \"track_id\"]\n",
    "val_data = pd.read_csv(val_path, names=header_list)\n",
    "val_data = val_data[val_data['count']>=5]"
   ]
  },
  {
   "cell_type": "code",
   "execution_count": 19,
   "metadata": {},
   "outputs": [],
   "source": [
    "val_dataset = Dataset()\n",
    "val_dataset.fit((val_data['user_id']),\n",
    "            (val_data['track_id']))"
   ]
  },
  {
   "cell_type": "code",
   "execution_count": 20,
   "metadata": {},
   "outputs": [
    {
     "name": "stdout",
     "output_type": "stream",
     "text": [
      "In val data, Num users: 59921, num_items 62148.\n"
     ]
    }
   ],
   "source": [
    "num_users, num_items = val_dataset.interactions_shape()\n",
    "print('In val data, Num users: {}, num_items {}.'.format(num_users, num_items))"
   ]
  },
  {
   "cell_type": "code",
   "execution_count": 21,
   "metadata": {},
   "outputs": [],
   "source": [
    "val = dict()\n",
    "# alldata = dict()\n",
    "for i in val_data[['user_id','track_id']]:\n",
    "    cate_enc = preprocessing.LabelEncoder()\n",
    "    val[i] = cate_enc.fit_transform(val_data[i].values)\n",
    "\n"
   ]
  },
  {
   "cell_type": "code",
   "execution_count": 22,
   "metadata": {},
   "outputs": [],
   "source": [
    "val_n_users = len(np.unique(val['user_id']))\n",
    "val_n_items = len(np.unique(val['track_id']))\n",
    "\n",
    "val_ratings = dict()\n",
    "val_ratings['val'] = cate_enc.fit_transform(val_data['count'])"
   ]
  },
  {
   "cell_type": "code",
   "execution_count": 23,
   "metadata": {},
   "outputs": [],
   "source": [
    "val_matrix = coo_matrix((val_ratings['val'], (val['user_id'], \\\n",
    "                                                          val['track_id'])) \\\n",
    "                                      ,shape=(n_users, n_items)) #not mistake. the shape needs to be the same "
   ]
  },
  {
   "cell_type": "code",
   "execution_count": 24,
   "metadata": {},
   "outputs": [
    {
     "data": {
      "text/plain": [
       "<61624x67437 sparse matrix of type '<class 'numpy.int64'>'\n",
       "\twith 233554 stored elements in COOrdinate format>"
      ]
     },
     "execution_count": 24,
     "metadata": {},
     "output_type": "execute_result"
    }
   ],
   "source": [
    "val_matrix"
   ]
  },
  {
   "cell_type": "code",
   "execution_count": null,
   "metadata": {},
   "outputs": [],
   "source": [
    "#there are 4 metrics - AUC, prec_at_k, recall_at_k, and reciprocal_rank"
   ]
  },
  {
   "cell_type": "code",
   "execution_count": 25,
   "metadata": {},
   "outputs": [],
   "source": [
    "#looking for the best hyperparam. source: https://stackoverflow.com/questions/49896816/how-do-i-optimize-the-hyperparameters-of-lightfm\n",
    "import itertools\n",
    "\n",
    "import numpy as np\n",
    "\n",
    "def sample_hyperparameters():\n",
    "    \"\"\"\n",
    "    Yield possible hyperparameter choices.\n",
    "    \"\"\"\n",
    "\n",
    "    while True:\n",
    "        yield {\n",
    "            \"no_components\": np.random.randint(16, 64),\n",
    "            \"learning_schedule\": np.random.choice([\"adagrad\", \"adadelta\"]),\n",
    "            \"loss\": np.random.choice([\"bpr\", \"warp\", \"warp-kos\"]),\n",
    "            \"learning_rate\": np.random.exponential(0.05),\n",
    "            \"item_alpha\": np.random.exponential(1e-8),\n",
    "            \"user_alpha\": np.random.exponential(1e-8),\n",
    "            \"max_sampled\": np.random.randint(5, 15),\n",
    "            \"num_epochs\": np.random.randint(5, 50),\n",
    "        }\n",
    "\n",
    "\n",
    "def random_search(train, test, num_samples=10, num_threads=8):\n",
    "    \"\"\"\n",
    "    Sample random hyperparameters, fit a LightFM model, and evaluate it\n",
    "    on the test set.\n",
    "\n",
    "    Parameters\n",
    "    ----------\n",
    "\n",
    "    train: np.float32 coo_matrix of shape [n_users, n_items]\n",
    "        Training data.\n",
    "    test: np.float32 coo_matrix of shape [n_users, n_items]\n",
    "        Test data.\n",
    "    num_samples: int, optional\n",
    "        Number of hyperparameter choices to evaluate.\n",
    "\n",
    "\n",
    "    Returns\n",
    "    -------\n",
    "\n",
    "    generator of (auc_score, hyperparameter dict, fitted model)\n",
    "\n",
    "    \"\"\"\n",
    "\n",
    "    for hyperparams in itertools.islice(sample_hyperparameters(), num_samples):\n",
    "        num_epochs = hyperparams.pop(\"num_epochs\")\n",
    "\n",
    "        model = LightFM(**hyperparams)\n",
    "        model.fit(train, epochs=num_epochs, num_threads=num_threads)\n",
    "\n",
    "        score = auc_score(model, test, train_interactions=train, num_threads=num_threads).mean()\n",
    "\n",
    "        hyperparams[\"num_epochs\"] = num_epochs\n",
    "\n",
    "        yield (score, hyperparams, model)"
   ]
  },
  {
   "cell_type": "code",
   "execution_count": 26,
   "metadata": {},
   "outputs": [],
   "source": [
    "from lightfm import LightFM\n",
    "LightFM._check_test_train_intersections = lambda x, y, z: True"
   ]
  },
  {
   "cell_type": "code",
   "execution_count": 27,
   "metadata": {},
   "outputs": [
    {
     "name": "stdout",
     "output_type": "stream",
     "text": [
      "Best score 0.5531360507011414 at {'no_components': 49, 'learning_schedule': 'adagrad', 'loss': 'warp-kos', 'learning_rate': 0.0040578167078020215, 'item_alpha': 1.0949384353203165e-08, 'user_alpha': 4.398305362432972e-09, 'max_sampled': 9, 'num_epochs': 22}\n"
     ]
    }
   ],
   "source": [
    "(score, hyperparams, model) = max(random_search(train_matrix, val_matrix, num_threads=4), key=lambda x: x[0])\n",
    "\n",
    "print(\"Best score {} at {}\".format(score, hyperparams))"
   ]
  },
  {
   "cell_type": "code",
   "execution_count": 28,
   "metadata": {},
   "outputs": [],
   "source": [
    "test_path = '/home/drh382/final-project-the-team/ms_test.csv/part-00000-e8dc8482-9e4f-45a3-827f-7e95e6499267-c000.csv'\n",
    "header_list = [\"user_id\", \"count\", \"track_id\"]\n",
    "test_data = pd.read_csv(test_path, names=header_list)\n",
    "test_data = test_data[test_data['count']>=5]"
   ]
  },
  {
   "cell_type": "code",
   "execution_count": 29,
   "metadata": {},
   "outputs": [],
   "source": [
    "test_dataset = Dataset()\n",
    "test_dataset.fit((test_data['user_id']),\n",
    "            (test_data['track_id']))"
   ]
  },
  {
   "cell_type": "code",
   "execution_count": 30,
   "metadata": {},
   "outputs": [
    {
     "name": "stdout",
     "output_type": "stream",
     "text": [
      "In test data, Num users: 6204, num_items 13193.\n"
     ]
    }
   ],
   "source": [
    "num_users, num_items = test_dataset.interactions_shape()\n",
    "print('In test data, Num users: {}, num_items {}.'.format(num_users, num_items))"
   ]
  },
  {
   "cell_type": "code",
   "execution_count": 31,
   "metadata": {},
   "outputs": [],
   "source": [
    "test = dict()\n",
    "# alldata = dict()\n",
    "for i in test_data[['user_id','track_id']]:\n",
    "    cate_enc = preprocessing.LabelEncoder()\n",
    "    test[i] = cate_enc.fit_transform(test_data[i].values)\n",
    "\n"
   ]
  },
  {
   "cell_type": "code",
   "execution_count": 32,
   "metadata": {},
   "outputs": [],
   "source": [
    "test_ratings = dict()\n",
    "test_ratings['test'] = cate_enc.fit_transform(test_data['count'])"
   ]
  },
  {
   "cell_type": "code",
   "execution_count": 33,
   "metadata": {},
   "outputs": [],
   "source": [
    "test_matrix = coo_matrix((test_ratings['test'], (test['user_id'], \\\n",
    "                                                          test['track_id'])) \\\n",
    "                                      ,shape=(n_users, n_items)) #not mistake. the shape needs to be the same "
   ]
  },
  {
   "cell_type": "code",
   "execution_count": 34,
   "metadata": {},
   "outputs": [
    {
     "data": {
      "text/plain": [
       "<61624x67437 sparse matrix of type '<class 'numpy.int64'>'\n",
       "\twith 23028 stored elements in COOrdinate format>"
      ]
     },
     "execution_count": 34,
     "metadata": {},
     "output_type": "execute_result"
    }
   ],
   "source": [
    "test_matrix"
   ]
  },
  {
   "cell_type": "code",
   "execution_count": 35,
   "metadata": {},
   "outputs": [
    {
     "name": "stdout",
     "output_type": "stream",
     "text": [
      "--- Run time:  9.806059106190999 mins ---\n",
      "Train AUC Score: 0.8230760097503662\n",
      "Test AUC Score: 0.7002538442611694\n",
      "Train Prec Score: 0.002928209723904729\n",
      "Test Prec Score: 0.0003787878667935729\n",
      "Train Recall Score: 0.014677551431378567\n",
      "Test Recall Score: 0.053097017099701924\n"
     ]
    }
   ],
   "source": [
    "#formal best hyperparameters - without filtering count >= 5\n",
    "\n",
    "start_time = time.time()\n",
    "\n",
    "# no_components': 33, 'learning_schedule': 'adagrad', 'loss': 'warp-kos', 'learning_rate': 0.0012108928998233663, 'item_alpha': 4.008980346554833e-09, 'user_alpha': 1.7940262832295985e-08, 'max_sampled': 5, 'num_epochs': 36\n",
    "\n",
    "model=LightFM(no_components=33,learning_schedule='adagrad',learning_rate=0.0012108928998233663,loss='warp-kos', item_alpha=4.008980346554833e-09,user_alpha=1.7940262832295985e-08,max_sampled=5)\n",
    "model.fit(train_matrix,epochs=36,num_threads=8)\n",
    "\n",
    "auc_train = auc_score(model, train_matrix).mean()\n",
    "auc_test = auc_score(model, test_matrix).mean()\n",
    "prec_train = precision_at_k(model, train_matrix, k = 500).mean()\n",
    "prec_test = precision_at_k(model, test_matrix, k = 500).mean()\n",
    "\n",
    "recall_train = recall_at_k(model, train_matrix, k = 500).mean()\n",
    "recall_test = recall_at_k(model, test_matrix, k = 500).mean()\n",
    "\n",
    "print(\"--- Run time:  {} mins ---\".format((time.time() - start_time)/60))\n",
    "print(\"Train AUC Score: {}\".format(auc_train))\n",
    "print(\"Test AUC Score: {}\".format(auc_test))\n",
    "print(\"Train Prec Score: {}\".format(prec_train))\n",
    "print(\"Test Prec Score: {}\".format(prec_test))\n",
    "print(\"Train Recall Score: {}\".format(recall_train))\n",
    "print(\"Test Recall Score: {}\".format(recall_test))"
   ]
  },
  {
   "cell_type": "code",
   "execution_count": 36,
   "metadata": {},
   "outputs": [
    {
     "name": "stdout",
     "output_type": "stream",
     "text": [
      "--- Run time:  9.664506697654724 mins ---\n",
      "Train AUC Score: 0.9180307388305664\n",
      "Test AUC Score: 0.621467113494873\n",
      "Train Prec Score: 0.005684505682438612\n",
      "Test Prec Score: 0.0002582205052021891\n",
      "Train Recall Score: 0.03815161218132962\n",
      "Test Recall Score: 0.033274214451000025\n"
     ]
    }
   ],
   "source": [
    "#new best hyperparameters - with filtering count >= 5\n",
    "\n",
    "start_time = time.time()\n",
    "# 'no_components': 49, 'learning_schedule': 'adagrad', 'loss': 'warp-kos', 'learning_rate': 0.0040578167078020215, 'item_alpha': 1.0949384353203165e-08, 'user_alpha': 4.398305362432972e-09, 'max_sampled': 9, 'num_epochs': 22\n",
    "# no_components': 33, 'learning_schedule': 'adagrad', 'loss': 'warp-kos', 'learning_rate': 0.0012108928998233663, 'item_alpha': 4.008980346554833e-09, 'user_alpha': 1.7940262832295985e-08, 'max_sampled': 5, 'num_epochs': 36\n",
    "\n",
    "model=LightFM(no_components=49,learning_schedule='adagrad',learning_rate=0.0040578167078020215,loss='warp-kos', item_alpha=1.0949384353203165e-08,user_alpha=4.398305362432972e-09,max_sampled=9)\n",
    "model.fit(train_matrix,epochs=22,num_threads=8)\n",
    "\n",
    "auc_train = auc_score(model, train_matrix).mean()\n",
    "auc_test = auc_score(model, test_matrix).mean()\n",
    "prec_train = precision_at_k(model, train_matrix, k = 500).mean()\n",
    "prec_test = precision_at_k(model, test_matrix, k = 500).mean()\n",
    "\n",
    "recall_train = recall_at_k(model, train_matrix, k = 500).mean()\n",
    "recall_test = recall_at_k(model, test_matrix, k = 500).mean()\n",
    "\n",
    "print(\"--- Run time:  {} mins ---\".format((time.time() - start_time)/60))\n",
    "print(\"Train AUC Score: {}\".format(auc_train))\n",
    "print(\"Test AUC Score: {}\".format(auc_test))\n",
    "print(\"Train Prec Score: {}\".format(prec_train))\n",
    "print(\"Test Prec Score: {}\".format(prec_test))\n",
    "print(\"Train Recall Score: {}\".format(recall_train))\n",
    "print(\"Test Recall Score: {}\".format(recall_test))"
   ]
  }
 ],
 "metadata": {
  "kernelspec": {
   "display_name": "Python 3",
   "language": "python",
   "name": "python3"
  },
  "language_info": {
   "codemirror_mode": {
    "name": "ipython",
    "version": 3
   },
   "file_extension": ".py",
   "mimetype": "text/x-python",
   "name": "python",
   "nbconvert_exporter": "python",
   "pygments_lexer": "ipython3",
   "version": "3.8.6"
  }
 },
 "nbformat": 4,
 "nbformat_minor": 4
}
